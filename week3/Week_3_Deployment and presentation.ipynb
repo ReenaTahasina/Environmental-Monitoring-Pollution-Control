{
 "cells": [
  {
   "cell_type": "code",
   "execution_count": null,
   "id": "6f3db0ea",
   "metadata": {},
   "outputs": [],
   "source": [
    "# Install scikit-learn if not already installed\n",
    "%pip install scikit-learn pandas\n",
    "\n",
    "import pandas as pd\n",
    "from sklearn.linear_model import LinearRegression\n",
    "\n",
    "# Create a sample DataFrame\n",
    "sample = pd.DataFrame({'feature1': [1.5], 'feature2': [3.2]})\n",
    "\n",
    "# Create and train a simple model for demonstration\n",
    "X_train = pd.DataFrame({'feature1': [1, 2, 3], 'feature2': [2, 3, 4]})\n",
    "y_train = [10, 15, 20]\n",
    "model = LinearRegression()\n",
    "model.fit(X_train, y_train)\n",
    "\n",
    "# Make prediction\n",
    "prediction = model.predict(sample)\n",
    "print(f\"Predicted PM2.5: {prediction[0]:.2f}\")"
   ]
  },
  {
   "cell_type": "code",
   "execution_count": null,
   "id": "b665608c",
   "metadata": {},
   "outputs": [],
   "source": [
    "import pandas as pd\n",
    "\n",
    "# Sample data for demonstration\n",
    "df = pd.DataFrame({\n",
    "\t'month': ['Jan', 'Jan', 'Feb', 'Feb', 'Mar', 'Mar'],\n",
    "\t'temperature': [22.5, 23.0, 19.8, 20.1, 25.3, 24.7],\n",
    "\t'humidity': [55, 58, 62, 60, 50, 52]\n",
    "})\n",
    "\n",
    "# Group by month and calculate average temperature and humidity\n",
    "monthly_avg = df.groupby('month')[['temperature', 'humidity']].mean().round(2)\n",
    "\n",
    "print(\"\\n🔹 Monthly Averages:\")\n",
    "print(monthly_avg)"
   ]
  },
  {
   "cell_type": "code",
   "execution_count": null,
   "id": "f7fd9e26",
   "metadata": {},
   "outputs": [],
   "source": [
    "import pandas as pd\n",
    "import matplotlib.pyplot as plt\n",
    "\n",
    "# Load cleaned dataset\n",
    "df = pd.read_csv('../Week_1_(Dataset_Preparation)/data/clean_pollution_data.csv')\n",
    "\n",
    "# Convert numeric months to labels (if needed)\n",
    "month_map = {\n",
    "    1: 'Jan', 2: 'Feb', 3: 'Mar', 4: 'Apr', 5: 'May', 6: 'Jun',\n",
    "    7: 'Jul', 8: 'Aug', 9: 'Sep', 10: 'Oct', 11: 'Nov', 12: 'Dec'\n",
    "}\n",
    "df['month'] = df['month'].map(month_map)\n",
    "\n",
    "# Group and plot\n",
    "monthly_avg = df.groupby('month')[['TEMP']].mean().round(2)\n",
    "\n",
    "monthly_avg.plot(kind='bar', figsize=(10, 6), color=['skyblue'])\n",
    "plt.title('Monthly Average Temperature')\n",
    "plt.ylabel('Temperature (°C)')\n",
    "plt.xlabel('Month')\n",
    "plt.xticks(rotation=45)\n",
    "plt.grid(axis='y')\n",
    "plt.tight_layout()\n",
    "plt.show()"
   ]
  }
 ],
 "metadata": {
  "kernelspec": {
   "display_name": "Python 3",
   "language": "python",
   "name": "python3"
  },
  "language_info": {
   "codemirror_mode": {
    "name": "ipython",
    "version": 3
   },
   "file_extension": ".py",
   "mimetype": "text/x-python",
   "name": "python",
   "nbconvert_exporter": "python",
   "pygments_lexer": "ipython3",
   "version": "3.13.3"
  }
 },
 "nbformat": 4,
 "nbformat_minor": 5
}
